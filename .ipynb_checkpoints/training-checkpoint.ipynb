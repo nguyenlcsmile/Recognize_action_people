{
 "cells": [
  {
   "cell_type": "code",
   "execution_count": 1,
   "id": "298e459e",
   "metadata": {},
   "outputs": [
    {
     "name": "stdout",
     "output_type": "stream",
     "text": [
      "(1444, 99)\n",
      "[0 0 0 ... 4 4 4]\n"
     ]
    }
   ],
   "source": [
    "#Load data \n",
    "import numpy as np\n",
    "data = np.genfromtxt('data_raw.csv', delimiter=',', skip_header=1) \n",
    "X = []\n",
    "y = []\n",
    "for i in range(len(data)):\n",
    "    X.append(data[i][:99])\n",
    "    y.append(data[i][99:][0])\n",
    "X = np.array(X)\n",
    "y = np.array(y)\n",
    "y = y.astype(\"uint8\")\n",
    "print(X.shape)\n",
    "print(y)"
   ]
  },
  {
   "cell_type": "code",
   "execution_count": 2,
   "id": "dcd8ad0f",
   "metadata": {},
   "outputs": [
    {
     "name": "stdout",
     "output_type": "stream",
     "text": [
      "(1299, 99)\n",
      "(1299,)\n",
      "(145, 99)\n",
      "(145,)\n"
     ]
    }
   ],
   "source": [
    "#Generate X_train, y_train, X_test, y_test\n",
    "from sklearn.model_selection import train_test_split\n",
    "\n",
    "X_train, X_test, y_train, y_test = train_test_split(X, y, test_size=0.1, random_state=42)\n",
    "print(X_train.shape)\n",
    "print(y_train.shape)\n",
    "print(X_test.shape)\n",
    "print(y_test.shape)"
   ]
  },
  {
   "cell_type": "code",
   "execution_count": 16,
   "id": "2aba1bd8",
   "metadata": {},
   "outputs": [
    {
     "ename": "ValueError",
     "evalue": "This model has not yet been built. Build the model first by calling `build()` or calling `fit()` with some data, or specify an `input_shape` argument in the first layer(s) for automatic build.",
     "output_type": "error",
     "traceback": [
      "\u001b[1;31m---------------------------------------------------------------------------\u001b[0m",
      "\u001b[1;31mValueError\u001b[0m                                Traceback (most recent call last)",
      "\u001b[1;32m<ipython-input-16-ad5b0cac7236>\u001b[0m in \u001b[0;36m<module>\u001b[1;34m\u001b[0m\n\u001b[0;32m     15\u001b[0m \u001b[1;31m#Compile model\u001b[0m\u001b[1;33m\u001b[0m\u001b[1;33m\u001b[0m\u001b[1;33m\u001b[0m\u001b[0m\n\u001b[0;32m     16\u001b[0m \u001b[0mmodel\u001b[0m\u001b[1;33m.\u001b[0m\u001b[0mcompile\u001b[0m\u001b[1;33m(\u001b[0m\u001b[0moptimizer\u001b[0m\u001b[1;33m=\u001b[0m\u001b[0mAdam\u001b[0m\u001b[1;33m(\u001b[0m\u001b[1;36m0.0001\u001b[0m\u001b[1;33m)\u001b[0m\u001b[1;33m,\u001b[0m \u001b[0mloss\u001b[0m\u001b[1;33m=\u001b[0m\u001b[1;34m'sparse_categorical_crossentropy'\u001b[0m\u001b[1;33m,\u001b[0m \u001b[0mmetrics\u001b[0m\u001b[1;33m=\u001b[0m\u001b[1;33m[\u001b[0m\u001b[1;34m'accuracy'\u001b[0m\u001b[1;33m]\u001b[0m\u001b[1;33m)\u001b[0m\u001b[1;33m\u001b[0m\u001b[1;33m\u001b[0m\u001b[0m\n\u001b[1;32m---> 17\u001b[1;33m \u001b[0mprint\u001b[0m\u001b[1;33m(\u001b[0m\u001b[0mmodel\u001b[0m\u001b[1;33m.\u001b[0m\u001b[0msummary\u001b[0m\u001b[1;33m(\u001b[0m\u001b[1;33m)\u001b[0m\u001b[1;33m)\u001b[0m\u001b[1;33m\u001b[0m\u001b[1;33m\u001b[0m\u001b[0m\n\u001b[0m",
      "\u001b[1;32mc:\\users\\legion\\anaconda3\\envs\\pose\\lib\\site-packages\\tensorflow\\python\\keras\\engine\\training.py\u001b[0m in \u001b[0;36msummary\u001b[1;34m(self, line_length, positions, print_fn)\u001b[0m\n\u001b[0;32m   2475\u001b[0m     \"\"\"\n\u001b[0;32m   2476\u001b[0m     \u001b[1;32mif\u001b[0m \u001b[1;32mnot\u001b[0m \u001b[0mself\u001b[0m\u001b[1;33m.\u001b[0m\u001b[0mbuilt\u001b[0m\u001b[1;33m:\u001b[0m\u001b[1;33m\u001b[0m\u001b[1;33m\u001b[0m\u001b[0m\n\u001b[1;32m-> 2477\u001b[1;33m       raise ValueError('This model has not yet been built. '\n\u001b[0m\u001b[0;32m   2478\u001b[0m                        \u001b[1;34m'Build the model first by calling `build()` or calling '\u001b[0m\u001b[1;33m\u001b[0m\u001b[1;33m\u001b[0m\u001b[0m\n\u001b[0;32m   2479\u001b[0m                        \u001b[1;34m'`fit()` with some data, or specify '\u001b[0m\u001b[1;33m\u001b[0m\u001b[1;33m\u001b[0m\u001b[0m\n",
      "\u001b[1;31mValueError\u001b[0m: This model has not yet been built. Build the model first by calling `build()` or calling `fit()` with some data, or specify an `input_shape` argument in the first layer(s) for automatic build."
     ]
    }
   ],
   "source": [
    "# Build DNN model with keras\n",
    "from tensorflow.keras.models import Sequential\n",
    "from tensorflow.keras.layers import Dense\n",
    "from keras.layers.normalization import BatchNormalization\n",
    "from tensorflow.keras.optimizers import Adam, SGD\n",
    "\n",
    "model = Sequential()\n",
    "model.add(Dense(units=128, activation='relu'))\n",
    "model.add(BatchNormalization())\n",
    "model.add(Dense(units=64, activation='relu'))\n",
    "model.add(BatchNormalization())\n",
    "model.add(Dense(units=16, activation='relu'))\n",
    "model.add(BatchNormalization())\n",
    "model.add(Dense(units=5, activation='softmax'))\n",
    "#Compile model\n",
    "model.compile(optimizer=Adam(0.0001), loss='sparse_categorical_crossentropy', metrics=['accuracy'])\n",
    "print(model.summary())"
   ]
  },
  {
   "cell_type": "code",
   "execution_count": 13,
   "id": "109106d0",
   "metadata": {},
   "outputs": [
    {
     "name": "stdout",
     "output_type": "stream",
     "text": [
      "Epoch 1/50\n",
      "82/82 [==============================] - 1s 3ms/step - loss: 1.6981 - accuracy: 0.2933 - val_loss: 1.5004 - val_accuracy: 0.3241\n",
      "Epoch 2/50\n",
      "82/82 [==============================] - 0s 2ms/step - loss: 1.4970 - accuracy: 0.3372 - val_loss: 1.4319 - val_accuracy: 0.3586\n",
      "Epoch 3/50\n",
      "82/82 [==============================] - 0s 2ms/step - loss: 1.3833 - accuracy: 0.3472 - val_loss: 1.3652 - val_accuracy: 0.3448\n",
      "Epoch 4/50\n",
      "82/82 [==============================] - 0s 2ms/step - loss: 1.3429 - accuracy: 0.3580 - val_loss: 1.3920 - val_accuracy: 0.3103\n",
      "Epoch 5/50\n",
      "82/82 [==============================] - 0s 2ms/step - loss: 1.3034 - accuracy: 0.3557 - val_loss: 1.3591 - val_accuracy: 0.2897\n",
      "Epoch 6/50\n",
      "82/82 [==============================] - 0s 2ms/step - loss: 1.2976 - accuracy: 0.3541 - val_loss: 1.2872 - val_accuracy: 0.3310\n",
      "Epoch 7/50\n",
      "82/82 [==============================] - 0s 2ms/step - loss: 1.2787 - accuracy: 0.3510 - val_loss: 1.3507 - val_accuracy: 0.3034\n",
      "Epoch 8/50\n",
      "82/82 [==============================] - 0s 2ms/step - loss: 1.2597 - accuracy: 0.3472 - val_loss: 1.3213 - val_accuracy: 0.3241\n",
      "Epoch 9/50\n",
      "82/82 [==============================] - 0s 2ms/step - loss: 1.2617 - accuracy: 0.3672 - val_loss: 1.2919 - val_accuracy: 0.3379\n",
      "Epoch 10/50\n",
      "82/82 [==============================] - 0s 2ms/step - loss: 1.2452 - accuracy: 0.3703 - val_loss: 1.3177 - val_accuracy: 0.3379\n",
      "Epoch 11/50\n",
      "82/82 [==============================] - 0s 2ms/step - loss: 1.2384 - accuracy: 0.3495 - val_loss: 1.3044 - val_accuracy: 0.2897\n",
      "Epoch 12/50\n",
      "82/82 [==============================] - 0s 2ms/step - loss: 1.2310 - accuracy: 0.3595 - val_loss: 1.3037 - val_accuracy: 0.3103\n",
      "Epoch 13/50\n",
      "82/82 [==============================] - 0s 2ms/step - loss: 1.2303 - accuracy: 0.3734 - val_loss: 1.2925 - val_accuracy: 0.2138\n",
      "Epoch 14/50\n",
      "82/82 [==============================] - 0s 2ms/step - loss: 1.2421 - accuracy: 0.3526 - val_loss: 1.3151 - val_accuracy: 0.3103\n",
      "Epoch 15/50\n",
      "82/82 [==============================] - 0s 2ms/step - loss: 1.2313 - accuracy: 0.3533 - val_loss: 1.2881 - val_accuracy: 0.3034\n",
      "Epoch 16/50\n",
      "82/82 [==============================] - 0s 2ms/step - loss: 1.2240 - accuracy: 0.3649 - val_loss: 1.3062 - val_accuracy: 0.3448\n",
      "Epoch 17/50\n",
      "82/82 [==============================] - 0s 2ms/step - loss: 1.2348 - accuracy: 0.3711 - val_loss: 1.2895 - val_accuracy: 0.2897\n",
      "Epoch 18/50\n",
      "82/82 [==============================] - 0s 2ms/step - loss: 1.2235 - accuracy: 0.3672 - val_loss: 1.2878 - val_accuracy: 0.2759\n",
      "Epoch 19/50\n",
      "82/82 [==============================] - 0s 2ms/step - loss: 1.2203 - accuracy: 0.3557 - val_loss: 1.3292 - val_accuracy: 0.2276\n",
      "Epoch 20/50\n",
      "82/82 [==============================] - 0s 2ms/step - loss: 1.2184 - accuracy: 0.3603 - val_loss: 1.3276 - val_accuracy: 0.2138\n",
      "Epoch 21/50\n",
      "82/82 [==============================] - 0s 2ms/step - loss: 1.2129 - accuracy: 0.3603 - val_loss: 1.2957 - val_accuracy: 0.3103\n",
      "Epoch 22/50\n",
      "82/82 [==============================] - 0s 2ms/step - loss: 1.2055 - accuracy: 0.3657 - val_loss: 1.2659 - val_accuracy: 0.2345\n",
      "Epoch 23/50\n",
      "82/82 [==============================] - 0s 2ms/step - loss: 1.2098 - accuracy: 0.3526 - val_loss: 1.2630 - val_accuracy: 0.2897\n",
      "Epoch 24/50\n",
      "82/82 [==============================] - 0s 2ms/step - loss: 1.2072 - accuracy: 0.3672 - val_loss: 1.2656 - val_accuracy: 0.2897\n",
      "Epoch 25/50\n",
      "82/82 [==============================] - 0s 2ms/step - loss: 1.2008 - accuracy: 0.3811 - val_loss: 1.2441 - val_accuracy: 0.2759\n",
      "Epoch 26/50\n",
      "82/82 [==============================] - 0s 2ms/step - loss: 1.2160 - accuracy: 0.3457 - val_loss: 1.2243 - val_accuracy: 0.3517\n",
      "Epoch 27/50\n",
      "82/82 [==============================] - 0s 2ms/step - loss: 1.2065 - accuracy: 0.3564 - val_loss: 1.2583 - val_accuracy: 0.3241\n",
      "Epoch 28/50\n",
      "82/82 [==============================] - 0s 2ms/step - loss: 1.2088 - accuracy: 0.3672 - val_loss: 1.3283 - val_accuracy: 0.3586\n",
      "Epoch 29/50\n",
      "82/82 [==============================] - 0s 2ms/step - loss: 1.2079 - accuracy: 0.3734 - val_loss: 1.2842 - val_accuracy: 0.3241\n",
      "Epoch 30/50\n",
      "82/82 [==============================] - 0s 2ms/step - loss: 1.2031 - accuracy: 0.3380 - val_loss: 1.2990 - val_accuracy: 0.3172\n",
      "Epoch 31/50\n",
      "82/82 [==============================] - 0s 2ms/step - loss: 1.2203 - accuracy: 0.3526 - val_loss: 1.3879 - val_accuracy: 0.3517\n",
      "Epoch 32/50\n",
      "82/82 [==============================] - 0s 2ms/step - loss: 1.2023 - accuracy: 0.3626 - val_loss: 1.2662 - val_accuracy: 0.2966\n",
      "Epoch 33/50\n",
      "82/82 [==============================] - 0s 2ms/step - loss: 1.2056 - accuracy: 0.3472 - val_loss: 1.2675 - val_accuracy: 0.3103\n",
      "Epoch 34/50\n",
      "82/82 [==============================] - 0s 2ms/step - loss: 1.2139 - accuracy: 0.3387 - val_loss: 1.2906 - val_accuracy: 0.2828\n",
      "Epoch 35/50\n",
      "82/82 [==============================] - 0s 2ms/step - loss: 1.2029 - accuracy: 0.3572 - val_loss: 1.2663 - val_accuracy: 0.2552\n",
      "Epoch 36/50\n",
      "82/82 [==============================] - 0s 2ms/step - loss: 1.1986 - accuracy: 0.3603 - val_loss: 1.2674 - val_accuracy: 0.2138\n",
      "Epoch 37/50\n",
      "82/82 [==============================] - 0s 2ms/step - loss: 1.2050 - accuracy: 0.3487 - val_loss: 1.2466 - val_accuracy: 0.2207\n",
      "Epoch 38/50\n",
      "82/82 [==============================] - 0s 2ms/step - loss: 1.2011 - accuracy: 0.3549 - val_loss: 1.2410 - val_accuracy: 0.2759\n",
      "Epoch 39/50\n",
      "82/82 [==============================] - 0s 2ms/step - loss: 1.2028 - accuracy: 0.3549 - val_loss: 1.2320 - val_accuracy: 0.2621\n",
      "Epoch 40/50\n",
      "82/82 [==============================] - 0s 2ms/step - loss: 1.2102 - accuracy: 0.3572 - val_loss: 1.2463 - val_accuracy: 0.2207\n",
      "Epoch 41/50\n",
      "82/82 [==============================] - 0s 2ms/step - loss: 1.2003 - accuracy: 0.3526 - val_loss: 1.2530 - val_accuracy: 0.2207\n",
      "Epoch 42/50\n",
      "82/82 [==============================] - 0s 2ms/step - loss: 1.1977 - accuracy: 0.3541 - val_loss: 1.2985 - val_accuracy: 0.2276\n",
      "Epoch 43/50\n",
      "82/82 [==============================] - 0s 2ms/step - loss: 1.2058 - accuracy: 0.3587 - val_loss: 1.2805 - val_accuracy: 0.2414\n",
      "Epoch 44/50\n",
      "82/82 [==============================] - 0s 2ms/step - loss: 1.2091 - accuracy: 0.3649 - val_loss: 1.2588 - val_accuracy: 0.2138\n",
      "Epoch 45/50\n",
      "82/82 [==============================] - 0s 2ms/step - loss: 1.1954 - accuracy: 0.3418 - val_loss: 1.2907 - val_accuracy: 0.2483\n",
      "Epoch 46/50\n",
      "82/82 [==============================] - 0s 2ms/step - loss: 1.1953 - accuracy: 0.3480 - val_loss: 1.2618 - val_accuracy: 0.2483\n",
      "Epoch 47/50\n",
      "82/82 [==============================] - 0s 2ms/step - loss: 1.1936 - accuracy: 0.3603 - val_loss: 1.2653 - val_accuracy: 0.2483\n",
      "Epoch 48/50\n",
      "82/82 [==============================] - 0s 2ms/step - loss: 1.1935 - accuracy: 0.3533 - val_loss: 1.2386 - val_accuracy: 0.2897\n",
      "Epoch 49/50\n",
      "82/82 [==============================] - 0s 2ms/step - loss: 1.2062 - accuracy: 0.3372 - val_loss: 1.2447 - val_accuracy: 0.2276\n",
      "Epoch 50/50\n",
      "82/82 [==============================] - ETA: 0s - loss: 1.1806 - accuracy: 0.36 - 0s 2ms/step - loss: 1.1871 - accuracy: 0.3610 - val_loss: 1.2642 - val_accuracy: 0.1931\n"
     ]
    }
   ],
   "source": [
    "#Training model\n",
    "history = model.fit(X_train, y_train, batch_size=16, epochs=50, verbose=1, validation_data=(X_test, y_test))"
   ]
  },
  {
   "cell_type": "code",
   "execution_count": null,
   "id": "33e75bad",
   "metadata": {},
   "outputs": [],
   "source": []
  },
  {
   "cell_type": "code",
   "execution_count": null,
   "id": "7943e172",
   "metadata": {},
   "outputs": [],
   "source": []
  },
  {
   "cell_type": "code",
   "execution_count": null,
   "id": "b2357d47",
   "metadata": {},
   "outputs": [],
   "source": []
  },
  {
   "cell_type": "code",
   "execution_count": null,
   "id": "e18e16d4",
   "metadata": {},
   "outputs": [],
   "source": []
  }
 ],
 "metadata": {
  "kernelspec": {
   "display_name": "Python 3",
   "language": "python",
   "name": "python3"
  },
  "language_info": {
   "codemirror_mode": {
    "name": "ipython",
    "version": 3
   },
   "file_extension": ".py",
   "mimetype": "text/x-python",
   "name": "python",
   "nbconvert_exporter": "python",
   "pygments_lexer": "ipython3",
   "version": "3.6.13"
  }
 },
 "nbformat": 4,
 "nbformat_minor": 5
}
