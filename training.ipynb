{
 "cells": [
  {
   "cell_type": "code",
   "execution_count": 35,
   "id": "298e459e",
   "metadata": {},
   "outputs": [
    {
     "name": "stdout",
     "output_type": "stream",
     "text": [
      "(520, 99)\n",
      "(520,)\n"
     ]
    }
   ],
   "source": [
    "#Load data \n",
    "import numpy as np\n",
    "data = np.genfromtxt('data_raw.csv', delimiter=',', skip_header=1) \n",
    "X = []\n",
    "y = []\n",
    "for i in range(len(data)):\n",
    "    X.append(data[i][:99])\n",
    "    y.append(data[i][99:][0])\n",
    "X = np.array(X)\n",
    "y = np.array(y)\n",
    "y = y.astype(\"uint8\")\n",
    "print(X.shape)\n",
    "print(y.shape)"
   ]
  },
  {
   "cell_type": "code",
   "execution_count": 36,
   "id": "dcd8ad0f",
   "metadata": {},
   "outputs": [
    {
     "name": "stdout",
     "output_type": "stream",
     "text": [
      "(468, 99)\n",
      "(468,)\n",
      "(52, 99)\n",
      "(52,)\n"
     ]
    }
   ],
   "source": [
    "#Generate X_train, y_train, X_test, y_test\n",
    "from sklearn.model_selection import train_test_split\n",
    "\n",
    "X_train, X_test, y_train, y_test = train_test_split(X, y, test_size=0.1, random_state=42)\n",
    "print(X_train.shape)\n",
    "print(y_train.shape)\n",
    "print(X_test.shape)\n",
    "print(y_test.shape)"
   ]
  },
  {
   "cell_type": "code",
   "execution_count": 37,
   "id": "2aba1bd8",
   "metadata": {},
   "outputs": [
    {
     "name": "stdout",
     "output_type": "stream",
     "text": [
      "WARNING:tensorflow:Please add `keras.layers.InputLayer` instead of `keras.Input` to Sequential model. `keras.Input` is intended to be used by Functional model.\n",
      "Model: \"sequential_11\"\n",
      "_________________________________________________________________\n",
      "Layer (type)                 Output Shape              Param #   \n",
      "=================================================================\n",
      "dense_56 (Dense)             (None, 64)                6400      \n",
      "_________________________________________________________________\n",
      "batch_normalization_29 (Batc (None, 64)                256       \n",
      "_________________________________________________________________\n",
      "dense_57 (Dense)             (None, 16)                1040      \n",
      "_________________________________________________________________\n",
      "batch_normalization_30 (Batc (None, 16)                64        \n",
      "_________________________________________________________________\n",
      "dense_58 (Dense)             (None, 5)                 85        \n",
      "=================================================================\n",
      "Total params: 7,845\n",
      "Trainable params: 7,685\n",
      "Non-trainable params: 160\n",
      "_________________________________________________________________\n",
      "None\n"
     ]
    }
   ],
   "source": [
    "# Build DNN model with keras\n",
    "import tensorflow.keras as keras\n",
    "\n",
    "model = Sequential()\n",
    "model.add(keras.Input(shape=(99,)))\n",
    "model.add(keras.layers.Dense(units=64, activation='relu'))\n",
    "model.add(keras.layers.BatchNormalization())\n",
    "model.add(keras.layers.Dense(units=16, activation='relu'))\n",
    "model.add(keras.layers.BatchNormalization())\n",
    "model.add(keras.layers.Dense(units=5, activation='softmax'))\n",
    "#Compile model\n",
    "model.compile(optimizer='Adam', loss='sparse_categorical_crossentropy', metrics=['accuracy'])\n",
    "print(model.summary())"
   ]
  },
  {
   "cell_type": "code",
   "execution_count": 38,
   "id": "109106d0",
   "metadata": {},
   "outputs": [
    {
     "name": "stdout",
     "output_type": "stream",
     "text": [
      "Epoch 1/50\n",
      "15/15 [==============================] - 1s 9ms/step - loss: 1.1278 - accuracy: 0.6132 - val_loss: 1.4667 - val_accuracy: 0.2692\n",
      "Epoch 2/50\n",
      "15/15 [==============================] - 0s 2ms/step - loss: 0.4995 - accuracy: 0.8953 - val_loss: 1.3782 - val_accuracy: 0.5385\n",
      "Epoch 3/50\n",
      "15/15 [==============================] - 0s 2ms/step - loss: 0.3382 - accuracy: 0.9509 - val_loss: 1.3140 - val_accuracy: 0.5769\n",
      "Epoch 4/50\n",
      "15/15 [==============================] - 0s 3ms/step - loss: 0.2577 - accuracy: 0.9765 - val_loss: 1.2482 - val_accuracy: 0.6538\n",
      "Epoch 5/50\n",
      "15/15 [==============================] - 0s 2ms/step - loss: 0.1934 - accuracy: 0.9829 - val_loss: 1.1902 - val_accuracy: 0.7692\n",
      "Epoch 6/50\n",
      "15/15 [==============================] - 0s 2ms/step - loss: 0.1346 - accuracy: 0.9957 - val_loss: 1.1336 - val_accuracy: 0.7500\n",
      "Epoch 7/50\n",
      "15/15 [==============================] - 0s 2ms/step - loss: 0.1057 - accuracy: 0.9936 - val_loss: 1.0702 - val_accuracy: 0.8846\n",
      "Epoch 8/50\n",
      "15/15 [==============================] - 0s 2ms/step - loss: 0.1006 - accuracy: 0.9957 - val_loss: 0.9960 - val_accuracy: 0.8846\n",
      "Epoch 9/50\n",
      "15/15 [==============================] - 0s 2ms/step - loss: 0.0796 - accuracy: 0.9979 - val_loss: 0.9171 - val_accuracy: 0.8846\n",
      "Epoch 10/50\n",
      "15/15 [==============================] - 0s 2ms/step - loss: 0.0691 - accuracy: 0.9979 - val_loss: 0.8493 - val_accuracy: 0.8846\n",
      "Epoch 11/50\n",
      "15/15 [==============================] - 0s 2ms/step - loss: 0.0541 - accuracy: 1.0000 - val_loss: 0.8032 - val_accuracy: 0.8846\n",
      "Epoch 12/50\n",
      "15/15 [==============================] - 0s 2ms/step - loss: 0.0522 - accuracy: 0.9979 - val_loss: 0.7476 - val_accuracy: 0.8846\n",
      "Epoch 13/50\n",
      "15/15 [==============================] - 0s 2ms/step - loss: 0.0487 - accuracy: 0.9979 - val_loss: 0.6453 - val_accuracy: 0.8846\n",
      "Epoch 14/50\n",
      "15/15 [==============================] - 0s 2ms/step - loss: 0.0480 - accuracy: 0.9957 - val_loss: 0.5612 - val_accuracy: 0.8846\n",
      "Epoch 15/50\n",
      "15/15 [==============================] - 0s 2ms/step - loss: 0.0396 - accuracy: 1.0000 - val_loss: 0.5141 - val_accuracy: 0.9038\n",
      "Epoch 16/50\n",
      "15/15 [==============================] - 0s 2ms/step - loss: 0.0369 - accuracy: 1.0000 - val_loss: 0.4251 - val_accuracy: 0.9615\n",
      "Epoch 17/50\n",
      "15/15 [==============================] - 0s 2ms/step - loss: 0.0363 - accuracy: 0.9936 - val_loss: 0.3531 - val_accuracy: 1.0000\n",
      "Epoch 18/50\n",
      "15/15 [==============================] - 0s 2ms/step - loss: 0.0364 - accuracy: 0.9957 - val_loss: 0.2917 - val_accuracy: 0.9808\n",
      "Epoch 19/50\n",
      "15/15 [==============================] - 0s 2ms/step - loss: 0.0293 - accuracy: 1.0000 - val_loss: 0.2380 - val_accuracy: 0.9808\n",
      "Epoch 20/50\n",
      "15/15 [==============================] - 0s 2ms/step - loss: 0.0304 - accuracy: 0.9979 - val_loss: 0.2339 - val_accuracy: 0.9423\n",
      "Epoch 21/50\n",
      "15/15 [==============================] - 0s 2ms/step - loss: 0.0242 - accuracy: 1.0000 - val_loss: 0.1757 - val_accuracy: 0.9615\n",
      "Epoch 22/50\n",
      "15/15 [==============================] - 0s 2ms/step - loss: 0.0217 - accuracy: 1.0000 - val_loss: 0.1343 - val_accuracy: 1.0000\n",
      "Epoch 23/50\n",
      "15/15 [==============================] - 0s 2ms/step - loss: 0.0207 - accuracy: 1.0000 - val_loss: 0.1171 - val_accuracy: 1.0000\n",
      "Epoch 24/50\n",
      "15/15 [==============================] - 0s 3ms/step - loss: 0.0209 - accuracy: 1.0000 - val_loss: 0.1009 - val_accuracy: 1.0000\n",
      "Epoch 25/50\n",
      "15/15 [==============================] - 0s 2ms/step - loss: 0.0210 - accuracy: 0.9957 - val_loss: 0.0766 - val_accuracy: 1.0000\n",
      "Epoch 26/50\n",
      "15/15 [==============================] - 0s 2ms/step - loss: 0.0204 - accuracy: 0.9979 - val_loss: 0.0662 - val_accuracy: 1.0000\n",
      "Epoch 27/50\n",
      "15/15 [==============================] - 0s 2ms/step - loss: 0.0153 - accuracy: 1.0000 - val_loss: 0.0727 - val_accuracy: 1.0000\n",
      "Epoch 28/50\n",
      "15/15 [==============================] - 0s 2ms/step - loss: 0.0154 - accuracy: 1.0000 - val_loss: 0.1038 - val_accuracy: 0.9808\n",
      "Epoch 29/50\n",
      "15/15 [==============================] - 0s 2ms/step - loss: 0.0189 - accuracy: 0.9979 - val_loss: 0.0804 - val_accuracy: 1.0000\n",
      "Epoch 30/50\n",
      "15/15 [==============================] - 0s 2ms/step - loss: 0.0133 - accuracy: 1.0000 - val_loss: 0.0579 - val_accuracy: 1.0000\n",
      "Epoch 31/50\n",
      "15/15 [==============================] - 0s 2ms/step - loss: 0.0125 - accuracy: 1.0000 - val_loss: 0.0416 - val_accuracy: 1.0000\n",
      "Epoch 32/50\n",
      "15/15 [==============================] - 0s 3ms/step - loss: 0.0158 - accuracy: 1.0000 - val_loss: 0.0345 - val_accuracy: 1.0000\n",
      "Epoch 33/50\n",
      "15/15 [==============================] - 0s 2ms/step - loss: 0.0111 - accuracy: 1.0000 - val_loss: 0.0770 - val_accuracy: 0.9808\n",
      "Epoch 34/50\n",
      "15/15 [==============================] - 0s 2ms/step - loss: 0.0123 - accuracy: 1.0000 - val_loss: 0.0436 - val_accuracy: 0.9808\n",
      "Epoch 35/50\n",
      "15/15 [==============================] - 0s 2ms/step - loss: 0.0130 - accuracy: 1.0000 - val_loss: 0.0279 - val_accuracy: 1.0000\n",
      "Epoch 36/50\n",
      "15/15 [==============================] - 0s 2ms/step - loss: 0.0092 - accuracy: 1.0000 - val_loss: 0.0160 - val_accuracy: 1.0000\n",
      "Epoch 37/50\n",
      "15/15 [==============================] - 0s 2ms/step - loss: 0.0116 - accuracy: 1.0000 - val_loss: 0.0204 - val_accuracy: 1.0000\n",
      "Epoch 38/50\n",
      "15/15 [==============================] - 0s 2ms/step - loss: 0.0087 - accuracy: 1.0000 - val_loss: 0.0134 - val_accuracy: 1.0000\n",
      "Epoch 39/50\n",
      "15/15 [==============================] - 0s 2ms/step - loss: 0.0086 - accuracy: 1.0000 - val_loss: 0.0181 - val_accuracy: 1.0000\n",
      "Epoch 40/50\n",
      "15/15 [==============================] - 0s 2ms/step - loss: 0.0085 - accuracy: 1.0000 - val_loss: 0.0138 - val_accuracy: 1.0000\n",
      "Epoch 41/50\n",
      "15/15 [==============================] - 0s 2ms/step - loss: 0.0088 - accuracy: 1.0000 - val_loss: 0.0111 - val_accuracy: 1.0000\n",
      "Epoch 42/50\n",
      "15/15 [==============================] - 0s 2ms/step - loss: 0.0091 - accuracy: 1.0000 - val_loss: 0.0073 - val_accuracy: 1.0000\n",
      "Epoch 43/50\n",
      "15/15 [==============================] - 0s 2ms/step - loss: 0.0075 - accuracy: 1.0000 - val_loss: 0.0087 - val_accuracy: 1.0000\n",
      "Epoch 44/50\n",
      "15/15 [==============================] - 0s 2ms/step - loss: 0.0073 - accuracy: 1.0000 - val_loss: 0.0085 - val_accuracy: 1.0000\n",
      "Epoch 45/50\n",
      "15/15 [==============================] - 0s 2ms/step - loss: 0.0074 - accuracy: 1.0000 - val_loss: 0.0159 - val_accuracy: 1.0000\n",
      "Epoch 46/50\n",
      "15/15 [==============================] - 0s 2ms/step - loss: 0.0067 - accuracy: 1.0000 - val_loss: 0.0122 - val_accuracy: 1.0000\n",
      "Epoch 47/50\n",
      "15/15 [==============================] - 0s 2ms/step - loss: 0.0071 - accuracy: 1.0000 - val_loss: 0.0147 - val_accuracy: 1.0000\n",
      "Epoch 48/50\n",
      "15/15 [==============================] - 0s 2ms/step - loss: 0.0074 - accuracy: 1.0000 - val_loss: 0.0091 - val_accuracy: 1.0000\n",
      "Epoch 49/50\n",
      "15/15 [==============================] - 0s 2ms/step - loss: 0.0057 - accuracy: 1.0000 - val_loss: 0.0105 - val_accuracy: 1.0000\n",
      "Epoch 50/50\n",
      "15/15 [==============================] - 0s 2ms/step - loss: 0.0061 - accuracy: 1.0000 - val_loss: 0.0080 - val_accuracy: 1.0000\n"
     ]
    }
   ],
   "source": [
    "#Training model\n",
    "history = model.fit(X_train, y_train, batch_size=32, epochs=50, verbose=1, validation_data=(X_test, y_test))"
   ]
  },
  {
   "cell_type": "code",
   "execution_count": 39,
   "id": "33e75bad",
   "metadata": {},
   "outputs": [
    {
     "data": {
      "image/png": "[encoded data removed]",
      "text/plain": [
       "<Figure size 432x288 with 1 Axes>"
      ]
     },
     "metadata": {
      "needs_background": "light"
     },
     "output_type": "display_data"
    }
   ],
   "source": [
    "import matplotlib.pyplot as plt \n",
    "\n",
    "plt.plot(history.history[\"loss\"], label=\"train\")\n",
    "plt.plot(history.history[\"val_loss\"], label=\"val_train\")\n",
    "plt.legend()\n",
    "plt.show()"
   ]
  },
  {
   "cell_type": "code",
   "execution_count": 40,
   "id": "7943e172",
   "metadata": {},
   "outputs": [
    {
     "data": {
      "image/png": "[encoded data removed]",
      "text/plain": [
       "<Figure size 432x288 with 1 Axes>"
      ]
     },
     "metadata": {
      "needs_background": "light"
     },
     "output_type": "display_data"
    }
   ],
   "source": [
    "plt.plot(history.history[\"accuracy\"], label=\"accuracy\")\n",
    "plt.plot(history.history[\"val_accuracy\"], label=\"val_accuracy\")\n",
    "plt.legend()\n",
    "plt.show()"
   ]
  },
  {
   "cell_type": "code",
   "execution_count": 41,
   "id": "b2357d47",
   "metadata": {},
   "outputs": [],
   "source": [
    "model.save(\"action.h5\")"
   ]
  },
  {
   "cell_type": "code",
   "execution_count": null,
   "id": "e18e16d4",
   "metadata": {},
   "outputs": [],
   "source": []
  }
 ],
 "metadata": {
  "kernelspec": {
   "display_name": "Python 3",
   "language": "python",
   "name": "python3"
  },
  "language_info": {
   "codemirror_mode": {
    "name": "ipython",
    "version": 3
   },
   "file_extension": ".py",
   "mimetype": "text/x-python",
   "name": "python",
   "nbconvert_exporter": "python",
   "pygments_lexer": "ipython3",
   "version": "3.6.13"
  }
 },
 "nbformat": 4,
 "nbformat_minor": 5
}
